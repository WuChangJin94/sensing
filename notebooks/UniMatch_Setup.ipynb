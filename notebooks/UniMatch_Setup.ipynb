{
 "cells": [
  {
   "cell_type": "markdown",
   "metadata": {},
   "source": [
    "# Setup"
   ]
  },
  {
   "cell_type": "code",
   "execution_count": 1,
   "metadata": {
    "colab": {
     "base_uri": "https://localhost:8080/"
    },
    "id": "SdSyddUQ7wZP",
    "outputId": "56183cf5-27ca-449d-af55-0220ed032885"
   },
   "outputs": [
    {
     "name": "stdout",
     "output_type": "stream",
     "text": [
      "/home/arg/sensing\n",
      "/home/arg/sensing/unimatch\n"
     ]
    }
   ],
   "source": [
    "%cd ..\n",
    "%cd unimatch"
   ]
  },
  {
   "cell_type": "code",
   "execution_count": 2,
   "metadata": {
    "colab": {
     "base_uri": "https://localhost:8080/"
    },
    "id": "Zj3mH_CY8s9x",
    "outputId": "10ef4222-d6e1-4fa9-cf85-33110b0f8b2d"
   },
   "outputs": [
    {
     "name": "stdout",
     "output_type": "stream",
     "text": [
      "PyTorch version: 2.3.0+cu118\n",
      "Running on GPU NVIDIA GeForce GTX 1080\n"
     ]
    }
   ],
   "source": [
    "# check env\n",
    "import torch\n",
    "\n",
    "print('PyTorch version: %s' % torch.__version__)\n",
    "\n",
    "if not torch.cuda.is_available():\n",
    "  print('Running on CPU')\n",
    "else:\n",
    "  print('Running on GPU %s' % torch.cuda.get_device_name())"
   ]
  },
  {
   "cell_type": "markdown",
   "metadata": {
    "id": "UOUluSCq8_lr"
   },
   "source": [
    "# Download Model"
   ]
  },
  {
   "cell_type": "code",
   "execution_count": 3,
   "metadata": {
    "id": "HaswJZMq9B3c"
   },
   "outputs": [],
   "source": [
    "# we assume the downloaded model weights are located under the pretrained directory.\n",
    "!mkdir pretrained"
   ]
  },
  {
   "cell_type": "code",
   "execution_count": 4,
   "metadata": {
    "id": "jPHlSVw516ql"
   },
   "outputs": [
    {
     "name": "stdout",
     "output_type": "stream",
     "text": [
      "--2024-06-18 15:30:24--  https://s3.eu-central-1.amazonaws.com/avg-projects/unimatch/pretrained/gmflow-scale2-regrefine6-mixdata-train320x576-4e7b215d.pth\n",
      "Resolving s3.eu-central-1.amazonaws.com (s3.eu-central-1.amazonaws.com)... 52.219.72.247, 52.219.171.57, 52.219.140.119, ...\n",
      "Connecting to s3.eu-central-1.amazonaws.com (s3.eu-central-1.amazonaws.com)|52.219.72.247|:443... connected.\n",
      "HTTP request sent, awaiting response... 200 OK\n",
      "Length: 29500177 (28M) [binary/octet-stream]\n",
      "Saving to: ‘pretrained/gmflow-scale2-regrefine6-mixdata-train320x576-4e7b215d.pth’\n",
      "\n",
      "gmflow-scale2-regre 100%[===================>]  28.13M  1.57MB/s    in 28s     \n",
      "\n",
      "2024-06-18 15:30:54 (1.01 MB/s) - ‘pretrained/gmflow-scale2-regrefine6-mixdata-train320x576-4e7b215d.pth’ saved [29500177/29500177]\n",
      "\n",
      "--2024-06-18 15:30:54--  https://s3.eu-central-1.amazonaws.com/avg-projects/unimatch/pretrained/gmflow-scale2-regrefine6-kitti15-25b554d7.pth\n",
      "Resolving s3.eu-central-1.amazonaws.com (s3.eu-central-1.amazonaws.com)... 52.219.47.63, 52.219.72.183, 52.219.140.83, ...\n",
      "Connecting to s3.eu-central-1.amazonaws.com (s3.eu-central-1.amazonaws.com)|52.219.47.63|:443... connected.\n",
      "HTTP request sent, awaiting response... 200 OK\n",
      "Length: 29500177 (28M) [binary/octet-stream]\n",
      "Saving to: ‘pretrained/gmflow-scale2-regrefine6-kitti15-25b554d7.pth’\n",
      "\n",
      "gmflow-scale2-regre 100%[===================>]  28.13M  1.58MB/s    in 20s     \n",
      "\n",
      "2024-06-18 15:31:16 (1.41 MB/s) - ‘pretrained/gmflow-scale2-regrefine6-kitti15-25b554d7.pth’ saved [29500177/29500177]\n",
      "\n",
      "--2024-06-18 15:31:16--  https://s3.eu-central-1.amazonaws.com/avg-projects/unimatch/pretrained/gmstereo-scale2-regrefine3-resumeflowthings-middleburyfthighres-a82bec03.pth\n",
      "Resolving s3.eu-central-1.amazonaws.com (s3.eu-central-1.amazonaws.com)... 3.5.139.17, 52.219.171.149, 52.219.47.39, ...\n",
      "Connecting to s3.eu-central-1.amazonaws.com (s3.eu-central-1.amazonaws.com)|3.5.139.17|:443... connected.\n",
      "HTTP request sent, awaiting response... 200 OK\n",
      "Length: 29475089 (28M) [binary/octet-stream]\n",
      "Saving to: ‘pretrained/gmstereo-scale2-regrefine3-resumeflowthings-middleburyfthighres-a82bec03.pth’\n",
      "\n",
      "gmstereo-scale2-reg 100%[===================>]  28.11M  1.07MB/s    in 39s     \n",
      "\n",
      "2024-06-18 15:31:57 (737 KB/s) - ‘pretrained/gmstereo-scale2-regrefine3-resumeflowthings-middleburyfthighres-a82bec03.pth’ saved [29475089/29475089]\n",
      "\n",
      "--2024-06-18 15:31:58--  https://s3.eu-central-1.amazonaws.com/avg-projects/unimatch/pretrained/gmdepth-scale1-regrefine1-resumeflowthings-scannet-90325722.pth\n",
      "Resolving s3.eu-central-1.amazonaws.com (s3.eu-central-1.amazonaws.com)... 52.219.72.167, 3.5.134.180, 3.5.138.48, ...\n",
      "Connecting to s3.eu-central-1.amazonaws.com (s3.eu-central-1.amazonaws.com)|52.219.72.167|:443... connected.\n",
      "HTTP request sent, awaiting response... 200 OK\n",
      "Length: 29347411 (28M) [binary/octet-stream]\n",
      "Saving to: ‘pretrained/gmdepth-scale1-regrefine1-resumeflowthings-scannet-90325722.pth’\n",
      "\n",
      "gmdepth-scale1-regr 100%[===================>]  27.99M   825KB/s    in 28s     \n",
      "\n",
      "2024-06-18 15:32:27 (1.00 MB/s) - ‘pretrained/gmdepth-scale1-regrefine1-resumeflowthings-scannet-90325722.pth’ saved [29347411/29347411]\n",
      "\n"
     ]
    }
   ],
   "source": [
    "# we provide a large number of model weights with different speed-accuracy trade-off trained on different datasets for downloading:\n",
    "# https://github.com/autonomousvision/unimatch/blob/master/MODEL_ZOO.md\n",
    "# download example weights for flow, stereo and depth\n",
    "!wget -P pretrained https://s3.eu-central-1.amazonaws.com/avg-projects/unimatch/pretrained/gmflow-scale2-regrefine6-mixdata-train320x576-4e7b215d.pth\n",
    "!wget -P pretrained https://s3.eu-central-1.amazonaws.com/avg-projects/unimatch/pretrained/gmflow-scale2-regrefine6-kitti15-25b554d7.pth\n",
    "!wget -P pretrained https://s3.eu-central-1.amazonaws.com/avg-projects/unimatch/pretrained/gmstereo-scale2-regrefine3-resumeflowthings-middleburyfthighres-a82bec03.pth\n",
    "!wget -P pretrained https://s3.eu-central-1.amazonaws.com/avg-projects/unimatch/pretrained/gmdepth-scale1-regrefine1-resumeflowthings-scannet-90325722.pth"
   ]
  },
  {
   "cell_type": "code",
   "execution_count": 5,
   "metadata": {
    "colab": {
     "base_uri": "https://localhost:8080/"
    },
    "id": "r33bN90l3Kl5",
    "outputId": "f04dd89b-ff9e-45a0-cce0-dc7d22cfa43c"
   },
   "outputs": [
    {
     "name": "stdout",
     "output_type": "stream",
     "text": [
      "gmdepth-scale1-regrefine1-resumeflowthings-scannet-90325722.pth\n",
      "gmflow-scale2-regrefine6-kitti15-25b554d7.pth\n",
      "gmflow-scale2-regrefine6-mixdata-train320x576-4e7b215d.pth\n",
      "gmstereo-scale2-regrefine3-resumeflowthings-middleburyfthighres-a82bec03.pth\n"
     ]
    }
   ],
   "source": [
    "# check downloading\n",
    "%ls pretrained"
   ]
  },
  {
   "cell_type": "code",
   "execution_count": null,
   "metadata": {},
   "outputs": [],
   "source": []
  }
 ],
 "metadata": {
  "accelerator": "GPU",
  "colab": {
   "provenance": []
  },
  "gpuClass": "standard",
  "kernelspec": {
   "display_name": "Python 3 (ipykernel)",
   "language": "python",
   "name": "python3"
  },
  "language_info": {
   "codemirror_mode": {
    "name": "ipython",
    "version": 3
   },
   "file_extension": ".py",
   "mimetype": "text/x-python",
   "name": "python",
   "nbconvert_exporter": "python",
   "pygments_lexer": "ipython3",
   "version": "3.8.10"
  }
 },
 "nbformat": 4,
 "nbformat_minor": 4
}
